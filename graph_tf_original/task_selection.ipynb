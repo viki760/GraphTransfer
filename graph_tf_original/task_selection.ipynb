{
 "cells": [
  {
   "cell_type": "code",
   "execution_count": 3,
   "metadata": {},
   "outputs": [],
   "source": [
    "import pandas as pd\n",
    "target_task_names = pd.read_csv(\"target_task_names.csv\")\n",
    "\n",
    "# 设置显示最大的行数\n",
    "pd.set_option('display.max_rows', None)\n",
    "\n",
    "# 设置显示最大的列数\n",
    "pd.set_option('display.max_columns', None)"
   ]
  },
  {
   "cell_type": "code",
   "execution_count": 8,
   "metadata": {},
   "outputs": [
    {
     "ename": "FileNotFoundError",
     "evalue": "[Errno 2] No such file or directory: '../Domain_labels.json'",
     "output_type": "error",
     "traceback": [
      "\u001b[0;31m---------------------------------------------------------------------------\u001b[0m",
      "\u001b[0;31mFileNotFoundError\u001b[0m                         Traceback (most recent call last)",
      "\u001b[0;32m<ipython-input-8-e9b50c23bae4>\u001b[0m in \u001b[0;36m<module>\u001b[0;34m\u001b[0m\n\u001b[1;32m      2\u001b[0m \u001b[0;32mimport\u001b[0m \u001b[0mjson\u001b[0m\u001b[0;34m\u001b[0m\u001b[0;34m\u001b[0m\u001b[0m\n\u001b[1;32m      3\u001b[0m \u001b[0;32mimport\u001b[0m \u001b[0mpandas\u001b[0m \u001b[0;32mas\u001b[0m \u001b[0mpd\u001b[0m\u001b[0;34m\u001b[0m\u001b[0;34m\u001b[0m\u001b[0m\n\u001b[0;32m----> 4\u001b[0;31m \u001b[0;32mwith\u001b[0m \u001b[0mopen\u001b[0m\u001b[0;34m(\u001b[0m\u001b[0;34m'../Domain_labels.json'\u001b[0m\u001b[0;34m,\u001b[0m\u001b[0;34m'r'\u001b[0m\u001b[0;34m)\u001b[0m\u001b[0;32mas\u001b[0m \u001b[0mf\u001b[0m\u001b[0;34m:\u001b[0m\u001b[0;34m\u001b[0m\u001b[0;34m\u001b[0m\u001b[0m\n\u001b[0m\u001b[1;32m      5\u001b[0m     \u001b[0mlabels\u001b[0m \u001b[0;34m=\u001b[0m \u001b[0mjson\u001b[0m\u001b[0;34m.\u001b[0m\u001b[0mloads\u001b[0m\u001b[0;34m(\u001b[0m\u001b[0mf\u001b[0m\u001b[0;34m.\u001b[0m\u001b[0mread\u001b[0m\u001b[0;34m(\u001b[0m\u001b[0;34m)\u001b[0m\u001b[0;34m)\u001b[0m\u001b[0;34m\u001b[0m\u001b[0;34m\u001b[0m\u001b[0m\n\u001b[1;32m      6\u001b[0m \u001b[0mtasks_names\u001b[0m \u001b[0;34m=\u001b[0m \u001b[0;34m{\u001b[0m\u001b[0;34m}\u001b[0m\u001b[0;34m\u001b[0m\u001b[0;34m\u001b[0m\u001b[0m\n",
      "\u001b[0;31mFileNotFoundError\u001b[0m: [Errno 2] No such file or directory: '../Domain_labels.json'"
     ]
    }
   ],
   "source": [
    "# source_tasks\n",
    "import json\n",
    "import pandas as pd\n",
    "with open('../Domain_labels.json','r')as f:\n",
    "    labels = json.loads(f.read())\n",
    "tasks_names = {}\n",
    "import random\n",
    "for i in range(3):\n",
    "    tasks_names[f'task{i+1}'] = random.choices(list(labels.values()), k=100)\n",
    "pd.DataFrame(tasks_names).to_csv(\" source_task_names.csv\")"
   ]
  },
  {
   "cell_type": "code",
   "execution_count": null,
   "metadata": {},
   "outputs": [
    {
     "ename": "NameError",
     "evalue": "name 'labels' is not defined",
     "output_type": "error",
     "traceback": [
      "\u001b[0;31m---------------------------------------------------------------------------\u001b[0m",
      "\u001b[0;31mNameError\u001b[0m                                 Traceback (most recent call last)",
      "\u001b[0;32m<ipython-input-3-e8adb2bd85b0>\u001b[0m in \u001b[0;36m<module>\u001b[0;34m\u001b[0m\n\u001b[1;32m      1\u001b[0m \u001b[0;32mimport\u001b[0m \u001b[0mnumpy\u001b[0m \u001b[0;32mas\u001b[0m \u001b[0mnp\u001b[0m\u001b[0;34m\u001b[0m\u001b[0;34m\u001b[0m\u001b[0m\n\u001b[0;32m----> 2\u001b[0;31m \u001b[0mnp\u001b[0m\u001b[0;34m.\u001b[0m\u001b[0msavetxt\u001b[0m\u001b[0;34m(\u001b[0m\u001b[0;34m\"labels.txt\"\u001b[0m\u001b[0;34m,\u001b[0m \u001b[0mlist\u001b[0m\u001b[0;34m(\u001b[0m\u001b[0mlabels\u001b[0m\u001b[0;34m.\u001b[0m\u001b[0mvalues\u001b[0m\u001b[0;34m(\u001b[0m\u001b[0;34m)\u001b[0m\u001b[0;34m)\u001b[0m\u001b[0;34m,\u001b[0m \u001b[0mfmt\u001b[0m\u001b[0;34m=\u001b[0m\u001b[0;34m\"%s\"\u001b[0m\u001b[0;34m)\u001b[0m\u001b[0;34m\u001b[0m\u001b[0;34m\u001b[0m\u001b[0m\n\u001b[0m",
      "\u001b[0;31mNameError\u001b[0m: name 'labels' is not defined"
     ]
    }
   ],
   "source": [
    "import numpy as np\n",
    "np.savetxt(\"labels.txt\", list(labels.values()), fmt=\"%s\")"
   ]
  },
  {
   "cell_type": "code",
   "execution_count": 12,
   "metadata": {},
   "outputs": [],
   "source": [
    "import numpy as np\n",
    "labels = np.loadtxt(\"labels.txt\", dtype=str)"
   ]
  },
  {
   "cell_type": "code",
   "execution_count": 17,
   "metadata": {},
   "outputs": [
    {
     "ename": "KeyError",
     "evalue": "'domain'",
     "output_type": "error",
     "traceback": [
      "\u001b[0;31m---------------------------------------------------------------------------\u001b[0m",
      "\u001b[0;31mKeyError\u001b[0m                                  Traceback (most recent call last)",
      "\u001b[0;32m<ipython-input-17-4531ca845d1a>\u001b[0m in \u001b[0;36m<module>\u001b[0;34m\u001b[0m\n\u001b[1;32m      2\u001b[0m \u001b[0;32mimport\u001b[0m \u001b[0mpandas\u001b[0m \u001b[0;32mas\u001b[0m \u001b[0mpd\u001b[0m\u001b[0;34m\u001b[0m\u001b[0;34m\u001b[0m\u001b[0m\n\u001b[1;32m      3\u001b[0m \u001b[0mtask3\u001b[0m \u001b[0;34m=\u001b[0m \u001b[0mpd\u001b[0m\u001b[0;34m.\u001b[0m\u001b[0mDataFrame\u001b[0m\u001b[0;34m(\u001b[0m\u001b[0mtask3\u001b[0m\u001b[0;34m)\u001b[0m\u001b[0;34m\u001b[0m\u001b[0;34m\u001b[0m\u001b[0m\n\u001b[0;32m----> 4\u001b[0;31m \u001b[0mtask3\u001b[0m \u001b[0;34m=\u001b[0m \u001b[0mtask3\u001b[0m\u001b[0;34m[\u001b[0m\u001b[0;34m~\u001b[0m\u001b[0mtask3\u001b[0m\u001b[0;34m[\u001b[0m\u001b[0;34m'domain'\u001b[0m\u001b[0;34m]\u001b[0m\u001b[0;34m.\u001b[0m\u001b[0misin\u001b[0m\u001b[0;34m(\u001b[0m\u001b[0mlabels\u001b[0m\u001b[0;34m)\u001b[0m\u001b[0;34m]\u001b[0m\u001b[0;34m\u001b[0m\u001b[0;34m\u001b[0m\u001b[0m\n\u001b[0m\u001b[1;32m      5\u001b[0m \u001b[0mtask3\u001b[0m\u001b[0;34m.\u001b[0m\u001b[0mto_csv\u001b[0m\u001b[0;34m(\u001b[0m\u001b[0;34m\"task3.csv\"\u001b[0m\u001b[0;34m,\u001b[0m \u001b[0mindex\u001b[0m\u001b[0;34m=\u001b[0m\u001b[0;32mFalse\u001b[0m\u001b[0;34m)\u001b[0m\u001b[0;34m\u001b[0m\u001b[0;34m\u001b[0m\u001b[0m\n",
      "\u001b[0;32m~/.local/lib/python3.6/site-packages/pandas/core/frame.py\u001b[0m in \u001b[0;36m__getitem__\u001b[0;34m(self, key)\u001b[0m\n\u001b[1;32m   2904\u001b[0m             \u001b[0;32mif\u001b[0m \u001b[0mself\u001b[0m\u001b[0;34m.\u001b[0m\u001b[0mcolumns\u001b[0m\u001b[0;34m.\u001b[0m\u001b[0mnlevels\u001b[0m \u001b[0;34m>\u001b[0m \u001b[0;36m1\u001b[0m\u001b[0;34m:\u001b[0m\u001b[0;34m\u001b[0m\u001b[0;34m\u001b[0m\u001b[0m\n\u001b[1;32m   2905\u001b[0m                 \u001b[0;32mreturn\u001b[0m \u001b[0mself\u001b[0m\u001b[0;34m.\u001b[0m\u001b[0m_getitem_multilevel\u001b[0m\u001b[0;34m(\u001b[0m\u001b[0mkey\u001b[0m\u001b[0;34m)\u001b[0m\u001b[0;34m\u001b[0m\u001b[0;34m\u001b[0m\u001b[0m\n\u001b[0;32m-> 2906\u001b[0;31m             \u001b[0mindexer\u001b[0m \u001b[0;34m=\u001b[0m \u001b[0mself\u001b[0m\u001b[0;34m.\u001b[0m\u001b[0mcolumns\u001b[0m\u001b[0;34m.\u001b[0m\u001b[0mget_loc\u001b[0m\u001b[0;34m(\u001b[0m\u001b[0mkey\u001b[0m\u001b[0;34m)\u001b[0m\u001b[0;34m\u001b[0m\u001b[0;34m\u001b[0m\u001b[0m\n\u001b[0m\u001b[1;32m   2907\u001b[0m             \u001b[0;32mif\u001b[0m \u001b[0mis_integer\u001b[0m\u001b[0;34m(\u001b[0m\u001b[0mindexer\u001b[0m\u001b[0;34m)\u001b[0m\u001b[0;34m:\u001b[0m\u001b[0;34m\u001b[0m\u001b[0;34m\u001b[0m\u001b[0m\n\u001b[1;32m   2908\u001b[0m                 \u001b[0mindexer\u001b[0m \u001b[0;34m=\u001b[0m \u001b[0;34m[\u001b[0m\u001b[0mindexer\u001b[0m\u001b[0;34m]\u001b[0m\u001b[0;34m\u001b[0m\u001b[0;34m\u001b[0m\u001b[0m\n",
      "\u001b[0;32m~/.local/lib/python3.6/site-packages/pandas/core/indexes/range.py\u001b[0m in \u001b[0;36mget_loc\u001b[0;34m(self, key, method, tolerance)\u001b[0m\n\u001b[1;32m    356\u001b[0m                 \u001b[0;32mexcept\u001b[0m \u001b[0mValueError\u001b[0m \u001b[0;32mas\u001b[0m \u001b[0merr\u001b[0m\u001b[0;34m:\u001b[0m\u001b[0;34m\u001b[0m\u001b[0;34m\u001b[0m\u001b[0m\n\u001b[1;32m    357\u001b[0m                     \u001b[0;32mraise\u001b[0m \u001b[0mKeyError\u001b[0m\u001b[0;34m(\u001b[0m\u001b[0mkey\u001b[0m\u001b[0;34m)\u001b[0m \u001b[0;32mfrom\u001b[0m \u001b[0merr\u001b[0m\u001b[0;34m\u001b[0m\u001b[0;34m\u001b[0m\u001b[0m\n\u001b[0;32m--> 358\u001b[0;31m             \u001b[0;32mraise\u001b[0m \u001b[0mKeyError\u001b[0m\u001b[0;34m(\u001b[0m\u001b[0mkey\u001b[0m\u001b[0;34m)\u001b[0m\u001b[0;34m\u001b[0m\u001b[0;34m\u001b[0m\u001b[0m\n\u001b[0m\u001b[1;32m    359\u001b[0m         \u001b[0;32mreturn\u001b[0m \u001b[0msuper\u001b[0m\u001b[0;34m(\u001b[0m\u001b[0;34m)\u001b[0m\u001b[0;34m.\u001b[0m\u001b[0mget_loc\u001b[0m\u001b[0;34m(\u001b[0m\u001b[0mkey\u001b[0m\u001b[0;34m,\u001b[0m \u001b[0mmethod\u001b[0m\u001b[0;34m=\u001b[0m\u001b[0mmethod\u001b[0m\u001b[0;34m,\u001b[0m \u001b[0mtolerance\u001b[0m\u001b[0;34m=\u001b[0m\u001b[0mtolerance\u001b[0m\u001b[0;34m)\u001b[0m\u001b[0;34m\u001b[0m\u001b[0;34m\u001b[0m\u001b[0m\n\u001b[1;32m    360\u001b[0m \u001b[0;34m\u001b[0m\u001b[0m\n",
      "\u001b[0;31mKeyError\u001b[0m: 'domain'"
     ]
    }
   ],
   "source": [
    "# 在task3中但没有在labels里的\n",
    "import pandas as pd\n",
    "task3 = pd.DataFrame(task3)\n",
    "task3 = task3[~task3['domain'].isin(labels)]\n",
    "task3.to_csv(\"task3.csv\", index=False)\n"
   ]
  },
  {
   "cell_type": "code",
   "execution_count": 21,
   "metadata": {},
   "outputs": [],
   "source": [
    "# Furniture\n",
    "task1 = [\"bathtub\", \"bed\", \"bench\", \"ceiling_fan\", \"chair\", \"chandelier\", \"couch\", \"door\", \"dresser\", \"fence\", \"fireplace\", \"floor_lamp\", \"hot_tub\", \"ladder\", \"lantern\", \"mailbox\", \"picture_frame\", \"pillow\", \"postcard\", \"see_saw\", \"sink\", \"sleeping_bag\", \"stairs\", \"stove\", \"streetlight\", \"suitcase\", \"swing_set\", \"table\", \"teapot\", \"toilet\", \"toothbrush\", \"toothpaste\", \"umbrella\", \"vase\", \"wine_glass\"]\n",
    "\n",
    "\n",
    "# Mammal\n",
    "task2 = [\"bat\", \"bear\", \"camel\", \"cat\", \"cow\", \"dog\", \"dolphin\", \"elephant\", \"giraffe\", \"hedgehog\", \"horse\", \"kangaroo\", \"lion\", \"monkey\", \"mouse\", \"panda\", \"pig\", \"rabbit\", \"raccoon\", \"rhinoceros\", \"sheep\", \"squirrel\", \"tiger\", \"whale\"]\n",
    "\n",
    "# Tool\n",
    "task3 = [\"anvil\", \"axe\", \"bandage\", \"basket\", \"boomerang\", \"bottlecap\", \"broom\", \"bucket\", \"compass\", \"drill\", \"dumbbell\", \"hammer\", \"key\", \"nail\", \"paint_can\", \"passport\", \"pliers\", \"rake\", \"rifle\", \"saw\", \"screwdriver\", \"shovel\", \"skateboard\", \"stethoscope\", \"stitches\", \"sword\", \"syringe\", \"wheel\"]\n",
    "# 10 + 11"
   ]
  },
  {
   "cell_type": "code",
   "execution_count": 59,
   "metadata": {},
   "outputs": [],
   "source": [
    "task1 = [\"aircraft_carrier, airplane, ambulance, bicycle, bulldozer, bus, canoe, car, cruise_ship, helicopter, hot_air_balloon, motorbike, pickup_truck, police_car, sailboat, school_bus, speedboat, submarine, train, van, truck, firetruck\"]\n",
    "task1 = task1[0].split(\", \")\n",
    "\n",
    "task2 = [\"bear, bird, camel, cat, cow, crocodile, dog, dolphin, duck, elephant, fish, flamingo, frog, giraffe, hedgehog, horse, kangaroo, lion, monkey, mosquito, octopus, owl, panda, parrot, penguin, pig, rabbit, raccoon, shark, sheep, snail, snake, spider, squirrel, tiger, whale, zebra\"]\n",
    "task2 = task2[0].split(\", \")\n",
    "\n",
    "task3 = [\"alarm_clock, backpack, bed, bench, bottlecap, bracelet, broom, bucket, candle, chair, chandelier, clock, computer, cooler, couch, dishwasher, door, dresser, envelope, fireplace, flashlight, floor_lamp, frying_pan, garden_hose, laptop, lantern, light_bulb, lighter, microwave, oven, paint_can, pillow, pliers, power_outlet, radio, remote_control, stove, table, telephone, television, toaster, toilet, washing_machine\"]\n",
    "task3 = task3[0].split(\", \")\n"
   ]
  },
  {
   "cell_type": "code",
   "execution_count": 22,
   "metadata": {},
   "outputs": [
    {
     "name": "stdout",
     "output_type": "stream",
     "text": [
      "所有的词都在labels中。\n"
     ]
    }
   ],
   "source": [
    "# 定义labels和task3\n",
    "\n",
    "# 检查task3中的每个词是否在labels中\n",
    "not_in_labels = [word for word in task3 if word not in labels]\n",
    "\n",
    "# 输出结果\n",
    "if not not_in_labels:\n",
    "    print(\"所有的词都在labels中。\")\n",
    "else:\n",
    "    print(\"以下词不在labels中:\", \", \".join(not_in_labels))\n"
   ]
  },
  {
   "cell_type": "code",
   "execution_count": 23,
   "metadata": {},
   "outputs": [],
   "source": [
    "import random\n",
    "source_task1 = task1[:10]\n",
    "source_task2 = task2[:10]\n",
    "source_task3 = task3[:10]\n",
    "source_tasks_names = {}\n",
    "# 要随机再target_task中选取3个类别组成三分类任务，再把这个放到target_task_names中，分别从target_task1-3中各选区10个子任务\n",
    "\n",
    "source_task = {}\n",
    "source_task[0] = source_task1\n",
    "source_task[1] = source_task2\n",
    "source_task[2] = source_task3\n",
    "for i in range(3):\n",
    "    source_tasks_names[f'task{i+1}'] = source_task[i]\n",
    "pd.DataFrame(source_tasks_names).to_csv(\"new_source_task_names.csv\")"
   ]
  },
  {
   "cell_type": "code",
   "execution_count": 27,
   "metadata": {},
   "outputs": [],
   "source": [
    "import pandas as pd\n",
    "source_tasks = pd.read_csv(\"new_source_task_names.csv\")"
   ]
  },
  {
   "cell_type": "code",
   "execution_count": 28,
   "metadata": {},
   "outputs": [
    {
     "data": {
      "text/html": [
       "<div>\n",
       "<style scoped>\n",
       "    .dataframe tbody tr th:only-of-type {\n",
       "        vertical-align: middle;\n",
       "    }\n",
       "\n",
       "    .dataframe tbody tr th {\n",
       "        vertical-align: top;\n",
       "    }\n",
       "\n",
       "    .dataframe thead th {\n",
       "        text-align: right;\n",
       "    }\n",
       "</style>\n",
       "<table border=\"1\" class=\"dataframe\">\n",
       "  <thead>\n",
       "    <tr style=\"text-align: right;\">\n",
       "      <th></th>\n",
       "      <th>Unnamed: 0</th>\n",
       "      <th>task1</th>\n",
       "      <th>task2</th>\n",
       "      <th>task3</th>\n",
       "    </tr>\n",
       "  </thead>\n",
       "  <tbody>\n",
       "    <tr>\n",
       "      <th>0</th>\n",
       "      <td>0</td>\n",
       "      <td>bathtub</td>\n",
       "      <td>bat</td>\n",
       "      <td>anvil</td>\n",
       "    </tr>\n",
       "    <tr>\n",
       "      <th>1</th>\n",
       "      <td>1</td>\n",
       "      <td>bed</td>\n",
       "      <td>bear</td>\n",
       "      <td>axe</td>\n",
       "    </tr>\n",
       "    <tr>\n",
       "      <th>2</th>\n",
       "      <td>2</td>\n",
       "      <td>bench</td>\n",
       "      <td>camel</td>\n",
       "      <td>bandage</td>\n",
       "    </tr>\n",
       "    <tr>\n",
       "      <th>3</th>\n",
       "      <td>3</td>\n",
       "      <td>ceiling_fan</td>\n",
       "      <td>cat</td>\n",
       "      <td>basket</td>\n",
       "    </tr>\n",
       "    <tr>\n",
       "      <th>4</th>\n",
       "      <td>4</td>\n",
       "      <td>chair</td>\n",
       "      <td>cow</td>\n",
       "      <td>boomerang</td>\n",
       "    </tr>\n",
       "    <tr>\n",
       "      <th>5</th>\n",
       "      <td>5</td>\n",
       "      <td>chandelier</td>\n",
       "      <td>dog</td>\n",
       "      <td>bottlecap</td>\n",
       "    </tr>\n",
       "    <tr>\n",
       "      <th>6</th>\n",
       "      <td>6</td>\n",
       "      <td>couch</td>\n",
       "      <td>dolphin</td>\n",
       "      <td>broom</td>\n",
       "    </tr>\n",
       "    <tr>\n",
       "      <th>7</th>\n",
       "      <td>7</td>\n",
       "      <td>door</td>\n",
       "      <td>elephant</td>\n",
       "      <td>bucket</td>\n",
       "    </tr>\n",
       "    <tr>\n",
       "      <th>8</th>\n",
       "      <td>8</td>\n",
       "      <td>dresser</td>\n",
       "      <td>giraffe</td>\n",
       "      <td>compass</td>\n",
       "    </tr>\n",
       "    <tr>\n",
       "      <th>9</th>\n",
       "      <td>9</td>\n",
       "      <td>fence</td>\n",
       "      <td>hedgehog</td>\n",
       "      <td>drill</td>\n",
       "    </tr>\n",
       "  </tbody>\n",
       "</table>\n",
       "</div>"
      ],
      "text/plain": [
       "   Unnamed: 0        task1     task2      task3\n",
       "0           0      bathtub       bat      anvil\n",
       "1           1          bed      bear        axe\n",
       "2           2        bench     camel    bandage\n",
       "3           3  ceiling_fan       cat     basket\n",
       "4           4        chair       cow  boomerang\n",
       "5           5   chandelier       dog  bottlecap\n",
       "6           6        couch   dolphin      broom\n",
       "7           7         door  elephant     bucket\n",
       "8           8      dresser   giraffe    compass\n",
       "9           9        fence  hedgehog      drill"
      ]
     },
     "execution_count": 28,
     "metadata": {},
     "output_type": "execute_result"
    }
   ],
   "source": [
    "source_tasks"
   ]
  },
  {
   "cell_type": "code",
   "execution_count": 29,
   "metadata": {},
   "outputs": [],
   "source": [
    "import random\n",
    "target_task1 = task1[10:]\n",
    "target_task2 = task2[10:]\n",
    "target_task3 = task3[10:]\n",
    "target_tasks_names = {}\n",
    "# 要随机再target_task中选取3个类别组成三分类任务，再把这个放到target_task_names中，分别从target_task1-3中各选区10个子任务\n",
    "\n",
    "target_task = {}\n",
    "target_task[0] = target_task1\n",
    "target_task[1] = target_task2\n",
    "target_task[2] = target_task3\n",
    "for j in range(3):\n",
    "    for i in range(10):\n",
    "        target_tasks_names[f'task{j*10+i+1}'] = random.sample(list(target_task[j]), k=3)\n",
    "        \n",
    "pd.DataFrame(target_tasks_names).to_csv(\"new_target_task_names.csv\")"
   ]
  },
  {
   "cell_type": "code",
   "execution_count": 36,
   "metadata": {},
   "outputs": [
    {
     "name": "stdout",
     "output_type": "stream",
     "text": [
      "num_sample: 361\n",
      "num_sample: 506\n",
      "num_sample: 461\n",
      "num_sample: 151\n",
      "num_sample: 224\n",
      "num_sample: 275\n",
      "num_sample: 420\n",
      "num_sample: 252\n",
      "num_sample: 162\n",
      "num_sample: 537\n",
      "The minimum num_sample in the category_list is: 0\n"
     ]
    }
   ],
   "source": [
    "# 导入必要的库\n",
    "import os\n",
    "import numpy as np\n",
    "from PIL import Image\n",
    "import json\n",
    "from torch.utils.data import Dataset\n",
    "\n",
    "# ... [DomainNetDataset类的代码] ...\n",
    "\n",
    "# 创建一个DomainNetDataset实例\n",
    "data_root = \"../../DomainNet/\"  # 请替换为你的数据根目录\n",
    "domain = \"real\"  # 你可以选择其他域，如\"infograph\", \"painting\"等\n",
    "category_list = source_task1  # 请替换为你的类别列表\n",
    "\n",
    "dataset = DomainNetDataset(data_root=data_root, domain=domain, category_list=category_list)\n",
    "\n",
    "# 计算category_list中的最小num_sample\n",
    "min_num_sample = float('inf')\n",
    "for category in category_list:\n",
    "    cur_num_sample = sum(1 for item in dataset.selected_file_list if item['label'] == cate_map[category])\n",
    "    min_num_sample = min(min_num_sample, cur_num_sample)\n",
    "\n",
    "print(f\"The minimum num_sample in the category_list is: {min_num_sample}\")\n"
   ]
  },
  {
   "cell_type": "code",
   "execution_count": 35,
   "metadata": {},
   "outputs": [],
   "source": [
    "# 种类映射成index\n",
    "with open(\"../cate_map.json\",\"r\") as f:\n",
    "    cate_map = json.loads(f.read())"
   ]
  },
  {
   "cell_type": "code",
   "execution_count": 31,
   "metadata": {},
   "outputs": [],
   "source": [
    "# 导入必要的库\n",
    "import os\n",
    "import numpy as np\n",
    "from PIL import Image\n",
    "import json\n",
    "from torch.utils.data import Dataset\n",
    "\n",
    "class DomainNetDataset(Dataset):\n",
    "    \n",
    "    def __init__(self, data_root, transform=None, is_training=True, domain=None, category_list = None, num_sample = None, require_file_path=False):\n",
    "\n",
    "        self.data_root = data_root\n",
    "        self.transform = transform\n",
    "        self.domain = domain\n",
    "        self.require_file_path = require_file_path\n",
    "\n",
    "        if domain == 'clipart':\n",
    "            if is_training:\n",
    "                file_txt = open(os.path.join(self.data_root,'clipart_train.txt'),'r')\n",
    "            else:\n",
    "                file_txt = open(os.path.join(self.data_root,'clipart_test.txt'),'r')\n",
    "\n",
    "        elif domain == 'infograph':\n",
    "            if is_training:\n",
    "                file_txt = open(os.path.join(self.data_root,'infograph_train.txt'),'r')\n",
    "            else:\n",
    "                file_txt = open(os.path.join(self.data_root,'infograph_test.txt'),'r')\n",
    "\n",
    "        elif domain == 'painting':\n",
    "            if is_training:\n",
    "                file_txt = open(os.path.join(self.data_root,'painting_train.txt'),'r')\n",
    "            else:\n",
    "                file_txt = open(os.path.join(self.data_root,'painting_test.txt'),'r')\n",
    "        \n",
    "        elif domain == 'quickdraw':\n",
    "            if is_training:\n",
    "                file_txt = open(os.path.join(self.data_root,'quickdraw_train.txt'),'r')\n",
    "            else:\n",
    "                file_txt = open(os.path.join(self.data_root,'quickdraw_test.txt'),'r')\n",
    "\n",
    "        elif domain == 'real':\n",
    "            if is_training:\n",
    "                file_txt = open(os.path.join(self.data_root,'real_train.txt'),'r')\n",
    "            else:\n",
    "                file_txt = open(os.path.join(self.data_root,'real_test.txt'),'r')\n",
    "\n",
    "        elif domain == 'sketch':\n",
    "            if is_training:\n",
    "                file_txt = open(os.path.join(self.data_root,'sketch_train.txt'),'r')\n",
    "            else:\n",
    "                file_txt = open(os.path.join(self.data_root,'sketch_test.txt'),'r')\n",
    "\n",
    "\n",
    "        self.file_list = []\n",
    "        for line in file_txt.readlines():\n",
    "            file, label = line.strip().split(' ')\n",
    "            self.file_list.append({'file':file, 'label':int(label)})\n",
    "\n",
    "\n",
    "        rdm = np.random.RandomState(20200816)\n",
    "        self.selected_file_list = []\n",
    "        if len(category_list):            \n",
    "            for new_label, category in enumerate(category_list):\n",
    "                cur_file_list = [{'file':each['file'], 'label': new_label, 'old_label': each['label']} for each in self.file_list if each['label'] == cate_map[category]]\n",
    "                \n",
    "                if num_sample and len(cur_file_list) > num_sample:\n",
    "                    print(\"num_sample:\",len(cur_file_list))\n",
    "                    idx_list = [i for i in range (0,len(cur_file_list))]\n",
    "                    sampled_id = rdm.choice(idx_list,num_sample,replace=False).tolist()\n",
    "\n",
    "                    self.selected_file_list += [cur_file_list[i] for i in sampled_id]\n",
    "                else:\n",
    "                    print(\"num_sample:\",len(cur_file_list))\n",
    "                    self.selected_file_list += cur_file_list\n",
    "\n",
    "        else:\n",
    "            self.selected_file_list = self.file_list\n",
    "\n",
    "\n",
    "    def _save_selected_data(self,file_path):\n",
    "\n",
    "        f = open(file_path,'w')\n",
    "        json.dump(self.selected_file_list, f)\n",
    "        f.close()\n",
    "\n",
    "\n",
    "    def __len__(self):\n",
    "\n",
    "        return len(self.selected_file_list)\n",
    "\n",
    "\n",
    "    def __getitem__(self,idx,require_file_path=False):\n",
    "\n",
    "        img = Image.open(os.path.join(self.data_root,self.selected_file_list[idx]['file']))\n",
    "        if self.transform:\n",
    "            img = self.transform(img)\n",
    "        label = self.selected_file_list[idx]['label']\n",
    "        if self.require_file_path:\n",
    "            return img, label, self.selected_file_list[idx]['file']\n",
    "        else:\n",
    "            return img, label"
   ]
  },
  {
   "cell_type": "code",
   "execution_count": 40,
   "metadata": {},
   "outputs": [],
   "source": [
    "# OTCE\n",
    "import torch\n",
    "import torch.nn as nn\n",
    "import torch.optim as optim\n",
    "import torchvision.models as models\n",
    "import torchvision.transforms as transforms\n",
    "import torchvision.datasets as datasets\n",
    "import numpy as np\n",
    "\n",
    "from PIL import Image\n",
    "import os\n",
    "import numpy as np\n",
    "import pickle\n",
    "import json\n",
    "\n",
    "import torch\n",
    "from torch.utils.data import Dataset, DataLoader\n",
    "from torchvision import transforms, utils\n",
    "import matplotlib.pyplot as plt"
   ]
  },
  {
   "cell_type": "code",
   "execution_count": 41,
   "metadata": {},
   "outputs": [],
   "source": [
    "\n",
    "composed_transform = transforms.Compose(\n",
    "                        [transforms.Resize (224),\n",
    "                        transforms.CenterCrop((224, 224)),\n",
    "                        transforms.ToTensor()])"
   ]
  },
  {
   "cell_type": "code",
   "execution_count": 44,
   "metadata": {},
   "outputs": [
    {
     "name": "stdout",
     "output_type": "stream",
     "text": [
      "num_sample: 361\n",
      "num_sample: 506\n",
      "num_sample: 461\n",
      "num_sample: 151\n",
      "num_sample: 224\n",
      "num_sample: 275\n",
      "num_sample: 420\n",
      "num_sample: 252\n",
      "num_sample: 162\n",
      "num_sample: 537\n",
      "num_sample: 156\n",
      "num_sample: 218\n",
      "num_sample: 199\n",
      "num_sample: 66\n",
      "num_sample: 96\n",
      "num_sample: 118\n",
      "num_sample: 180\n",
      "num_sample: 111\n",
      "num_sample: 71\n",
      "num_sample: 229\n"
     ]
    }
   ],
   "source": [
    "source_task_names = pd.read_csv(\"../data/new_source_task_names.csv\",index_col=0)\n",
    "source_task_name = \"task1\"\n",
    "\n",
    "source_train_dataset = DomainNetDataset('../../DomainNet/', transform=composed_transform, is_training=True, domain=domain ,category_list=source_task_names[source_task_name].values,num_sample=150)\n",
    "source_train_loader = DataLoader(source_train_dataset, batch_size = 10, shuffle=True,  num_workers = 1, drop_last = True)\n",
    "\n",
    "source_test_dataset = DomainNetDataset('../../DomainNet/', transform=composed_transform, is_training=False, domain=domain ,category_list=source_task_names[source_task_name].values,num_sample=150)\n",
    "source_test_loader = DataLoader(source_test_dataset, batch_size = 10, shuffle=True,  num_workers = 1, drop_last = True)"
   ]
  },
  {
   "cell_type": "code",
   "execution_count": 45,
   "metadata": {},
   "outputs": [
    {
     "name": "stdout",
     "output_type": "stream",
     "text": [
      "训练集的批次数量: 150\n",
      "测试集的批次数量: 121\n"
     ]
    }
   ],
   "source": [
    "# 查看训练集 DataLoader 的批次数量\n",
    "num_batches_train = len(source_train_loader)\n",
    "print(\"训练集的批次数量:\", num_batches_train)\n",
    "\n",
    "# 查看测试集 DataLoader 的批次数量\n",
    "num_batches_test = len(source_test_loader)\n",
    "print(\"测试集的批次数量:\", num_batches_test)\n"
   ]
  },
  {
   "cell_type": "code",
   "execution_count": 46,
   "metadata": {},
   "outputs": [
    {
     "data": {
      "text/plain": [
       "1212"
      ]
     },
     "execution_count": 46,
     "metadata": {},
     "output_type": "execute_result"
    }
   ],
   "source": [
    "len(source_test_dataset)"
   ]
  },
  {
   "cell_type": "code",
   "execution_count": null,
   "metadata": {},
   "outputs": [],
   "source": []
  }
 ],
 "metadata": {
  "kernelspec": {
   "display_name": "base",
   "language": "python",
   "name": "python3"
  },
  "language_info": {
   "codemirror_mode": {
    "name": "ipython",
    "version": 3
   },
   "file_extension": ".py",
   "mimetype": "text/x-python",
   "name": "python",
   "nbconvert_exporter": "python",
   "pygments_lexer": "ipython3",
   "version": "3.6.8"
  },
  "orig_nbformat": 4
 },
 "nbformat": 4,
 "nbformat_minor": 2
}
